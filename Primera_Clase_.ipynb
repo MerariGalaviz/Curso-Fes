{
  "nbformat": 4,
  "nbformat_minor": 0,
  "metadata": {
    "colab": {
      "provenance": [],
      "authorship_tag": "ABX9TyPuNaUwP5NdOZxZ9taJvoni",
      "include_colab_link": true
    },
    "kernelspec": {
      "name": "python3",
      "display_name": "Python 3"
    },
    "language_info": {
      "name": "python"
    }
  },
  "cells": [
    {
      "cell_type": "markdown",
      "metadata": {
        "id": "view-in-github",
        "colab_type": "text"
      },
      "source": [
        "<a href=\"https://colab.research.google.com/github/MerariGalaviz/Curso-Fes/blob/main/Primera_Clase_.ipynb\" target=\"_parent\"><img src=\"https://colab.research.google.com/assets/colab-badge.svg\" alt=\"Open In Colab\"/></a>"
      ]
    },
    {
      "cell_type": "code",
      "execution_count": 26,
      "metadata": {
        "colab": {
          "base_uri": "https://localhost:8080/"
        },
        "id": "bE7nxGJJMahp",
        "outputId": "6431cc4c-b79f-4021-e538-cd2419382571"
      },
      "outputs": [
        {
          "output_type": "stream",
          "name": "stdout",
          "text": [
            "False\n",
            "False\n",
            "Tu nombre es fernado\n",
            "Tu Altura es 1.75\n",
            "81\n",
            "Tu nombre es: fernado y tu Altura es: 1.75\n",
            "Tu nombre es: fernado y tu altura es:1.75metros\n",
            "Hola: fernado tu Altura es:1.75 metros\n",
            "Digite su nombreliliana\n",
            "Hola liliana\n",
            "Buenas nochesliliana\n",
            "0b1010\n",
            "10\n",
            "17\n"
          ]
        }
      ],
      "source": [
        "#operadores relacionales\n",
        "operador=10 == 20\n",
        "print(operador)\n",
        "a=10\n",
        "b=15\n",
        "c=20\n",
        "resultado=  not((a>b) or (b<c))\n",
        "print (resultado)\n",
        "#operadores de asignación\n",
        "a=1\n",
        "a += 3 #asignación suma\n",
        "a-= 1\n",
        "a *= 3\n",
        "a **= 2\n",
        "#salida de datos\n",
        "Nombre= \"fernado\"\n",
        "Altura= 1.75\n",
        "\n",
        "print(\"Tu nombre es\", Nombre)\n",
        "print(\"Tu Altura es\", Altura)\n",
        "print(a)\n",
        "#utilizamos format\n",
        "print(\"Tu nombre es: {} y tu Altura es: {}\".format(Nombre, Altura))\n",
        "#ESTA ES LA QUE UTILIZREMOS\n",
        "print(f\"Tu nombre es: {Nombre} y tu altura es:{Altura}metros\")\n",
        "print(f\"Hola: {Nombre} tu Altura es:{Altura} metros\" )\n",
        "#Entrado de datos\n",
        "#input es una función que se utiliza para pedir datos al usuario\n",
        "nombre= input(\"Digite su nombre\")\n",
        "print(f\"Hola {nombre}\")\n",
        "print(f\"Buenas noches{nombre}\")\n",
        "#Funciones integradas\n",
        "#Convertir de valor numerico o cadena\n",
        "#n= str(10)\n",
        "#print (n)\n",
        "#de enteros a binarios\n",
        "n=bin(10)\n",
        "print(n)\n",
        "n=abs(-10)\n",
        "print(n)\n",
        "n= len(\"Fernando Calderon\")\n",
        "print(n)"
      ]
    },
    {
      "cell_type": "code",
      "source": [
        "numero= int(input(\"Digite un número\"))\n",
        "\n",
        "print(f\"El númeroes {numero *5}\")\n",
        "numero=float(input(\"Digite un numero:\"))\n",
        "print(f\"El numero es{numero *5}\")\n",
        "#Funciones integradas\n",
        "n= str(10)\n",
        "print(n)"
      ],
      "metadata": {
        "colab": {
          "base_uri": "https://localhost:8080/",
          "height": 237
        },
        "id": "oIlG_gdaYsdg",
        "outputId": "d9c0be55-dd31-4f43-a9f2-0b788b6d44dc"
      },
      "execution_count": 21,
      "outputs": [
        {
          "name": "stdout",
          "output_type": "stream",
          "text": [
            "Digite un número5.5\n"
          ]
        },
        {
          "output_type": "error",
          "ename": "ValueError",
          "evalue": "invalid literal for int() with base 10: '5.5'",
          "traceback": [
            "\u001b[0;31m---------------------------------------------------------------------------\u001b[0m",
            "\u001b[0;31mValueError\u001b[0m                                Traceback (most recent call last)",
            "\u001b[0;32m<ipython-input-21-3426617850>\u001b[0m in \u001b[0;36m<cell line: 0>\u001b[0;34m()\u001b[0m\n\u001b[0;32m----> 1\u001b[0;31m \u001b[0mnumero\u001b[0m\u001b[0;34m=\u001b[0m \u001b[0mint\u001b[0m\u001b[0;34m(\u001b[0m\u001b[0minput\u001b[0m\u001b[0;34m(\u001b[0m\u001b[0;34m\"Digite un número\"\u001b[0m\u001b[0;34m)\u001b[0m\u001b[0;34m)\u001b[0m\u001b[0;34m\u001b[0m\u001b[0;34m\u001b[0m\u001b[0m\n\u001b[0m\u001b[1;32m      2\u001b[0m \u001b[0;34m\u001b[0m\u001b[0m\n\u001b[1;32m      3\u001b[0m \u001b[0mprint\u001b[0m\u001b[0;34m(\u001b[0m\u001b[0;34mf\"El númeroes {numero *5}\"\u001b[0m\u001b[0;34m)\u001b[0m\u001b[0;34m\u001b[0m\u001b[0;34m\u001b[0m\u001b[0m\n\u001b[1;32m      4\u001b[0m \u001b[0mnumero\u001b[0m\u001b[0;34m=\u001b[0m\u001b[0mfloat\u001b[0m\u001b[0;34m(\u001b[0m\u001b[0minput\u001b[0m\u001b[0;34m(\u001b[0m\u001b[0;34m\"Digite un numero:\"\u001b[0m\u001b[0;34m)\u001b[0m\u001b[0;34m)\u001b[0m\u001b[0;34m\u001b[0m\u001b[0;34m\u001b[0m\u001b[0m\n\u001b[1;32m      5\u001b[0m \u001b[0mprint\u001b[0m\u001b[0;34m(\u001b[0m\u001b[0;34mf\"El numero es{numero *5}\"\u001b[0m\u001b[0;34m)\u001b[0m\u001b[0;34m\u001b[0m\u001b[0;34m\u001b[0m\u001b[0m\n",
            "\u001b[0;31mValueError\u001b[0m: invalid literal for int() with base 10: '5.5'"
          ]
        }
      ]
    },
    {
      "cell_type": "markdown",
      "source": [
        "\n",
        "\n"
      ],
      "metadata": {
        "id": "wlYyNEAHOoPe"
      }
    },
    {
      "cell_type": "code",
      "source": [],
      "metadata": {
        "id": "KVe1J7JLc2bL"
      },
      "execution_count": null,
      "outputs": []
    },
    {
      "cell_type": "markdown",
      "source": [
        "## `Nueva sección`"
      ],
      "metadata": {
        "id": "ecuJiePENTkO"
      }
    }
  ]
}